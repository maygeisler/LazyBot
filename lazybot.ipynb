{
 "cells": [
  {
   "attachments": {},
   "cell_type": "markdown",
   "metadata": {},
   "source": [
    "Import libraries"
   ]
  },
  {
   "cell_type": "code",
   "execution_count": null,
   "metadata": {},
   "outputs": [],
   "source": [
    "import praw\n",
    "import openai\n",
    "import random"
   ]
  },
  {
   "attachments": {},
   "cell_type": "markdown",
   "metadata": {},
   "source": [
    "Fill in your details/api keys"
   ]
  },
  {
   "cell_type": "code",
   "execution_count": null,
   "metadata": {},
   "outputs": [],
   "source": [
    "#Connect openAI\n",
    "openai.api_key = 'openai-api-key'\n",
    "\n",
    "#Connect Reddit\n",
    "reddit = praw.Reddit(\n",
    "    client_id=\"reddit-client-id\",\n",
    "    client_secret=\"reddit-client-secret\",\n",
    "    password=\"reddit-password\",\n",
    "    user_agent=\"reddit-ua\",\n",
    "    username=\"reddit-username\",\n",
    ")\n",
    "reddit.read_only = True\n",
    "print(f'Logged in as {reddit.user.me()}')"
   ]
  },
  {
   "attachments": {},
   "cell_type": "markdown",
   "metadata": {},
   "source": [
    "_sublist_ A list of subredits to use\n",
    "\n",
    "\n",
    "_scoremin_ The minimum score a post needs to have to be considered\n",
    "\n",
    "\n",
    "_pickRandom_ Pick a random or the post with the highest score\n",
    "\n",
    "\n",
    "_useAI_ Use ChatGPT to generate article (for safety)"
   ]
  },
  {
   "cell_type": "code",
   "execution_count": null,
   "metadata": {},
   "outputs": [],
   "source": [
    "sublist = ['australia','straya','australian']\n",
    "scoremin = 120\n",
    "\n",
    "pickRandom = False\n",
    "useAI = False"
   ]
  },
  {
   "attachments": {},
   "cell_type": "markdown",
   "metadata": {},
   "source": [
    "Get posts from subreddits"
   ]
  },
  {
   "cell_type": "code",
   "execution_count": null,
   "metadata": {},
   "outputs": [],
   "source": [
    "posts = []\n",
    "\n",
    "for sub in sublist:\n",
    "    for submission in reddit.subreddit(sub).hot(limit=20):\n",
    "        if submission.score >= scoremin and submission.url.startswith(('https://i.redd.it/','https://www.reddit.com')):\n",
    "            print(submission.title)\n",
    "            posts.append(submission)\n",
    "            \n",
    "print(f'Found {len(posts)} good posts')"
   ]
  },
  {
   "attachments": {},
   "cell_type": "markdown",
   "metadata": {},
   "source": [
    "Get best or random post"
   ]
  },
  {
   "cell_type": "code",
   "execution_count": null,
   "metadata": {},
   "outputs": [],
   "source": [
    "if pickRandom:\n",
    "    #Pick a random post of the list\n",
    "    pickedPost = random.choice(posts)\n",
    "    pickedScore = pickedPost.score\n",
    "else:\n",
    "    #Pick the best post \n",
    "    pickedScore = 0\n",
    "    for post in posts:\n",
    "        if post.score > pickedScore:\n",
    "            pickedPost = post\n",
    "            pickedScore = pickedPost.score\n",
    "        \n",
    "print(f'Picked: {pickedPost.title}, with a score of {pickedScore}')"
   ]
  },
  {
   "attachments": {},
   "cell_type": "markdown",
   "metadata": {},
   "source": [
    "Get the posts comments"
   ]
  },
  {
   "cell_type": "code",
   "execution_count": null,
   "metadata": {},
   "outputs": [],
   "source": [
    "comments = []\n",
    "pickedPost.comments.replace_more(limit=4)\n",
    "for comment in pickedPost.comments.list():\n",
    "    if comment.score > 1:\n",
    "        commentdata =\t{\n",
    "            \"score\" : comment.score,\n",
    "            \"comment\" : comment.body,\n",
    "            \"author\" : comment.author\n",
    "        }\n",
    "        comments.append(commentdata)\n",
    "    \n",
    "comments = sorted(comments, key=lambda d: d['score'], reverse=True)"
   ]
  },
  {
   "attachments": {},
   "cell_type": "markdown",
   "metadata": {},
   "source": [
    "Generate article"
   ]
  },
  {
   "cell_type": "code",
   "execution_count": null,
   "metadata": {},
   "outputs": [],
   "source": [
    "promt = f\"Write a newspaer article about a reddit post with the title: {pickedPost.title}, posted by {pickedPost.author}; here are some comments people made on that post: \"\n",
    "for comment in comments[0:5]:\n",
    "  promt += f\"{comment['author']} wrote { comment['comment'] }; \"\n",
    "print(f'Promt: {promt}')\n",
    "\n",
    "if useAI:\n",
    "  chat = openai.ChatCompletion.create(\n",
    "    model=\"gpt-3.5-turbo\",\n",
    "    messages=[\n",
    "          {\"role\": \"system\", \"content\": \"You are a very credible Australian journalist.\"},\n",
    "          {\"role\": \"user\", \"content\": promt},\n",
    "      ]\n",
    "  )\n",
    "  reply = chat.choices[0].message.content\n",
    "  print(f\"Article: {reply}\")"
   ]
  }
 ],
 "metadata": {
  "kernelspec": {
   "display_name": "Python 3",
   "language": "python",
   "name": "python3"
  },
  "language_info": {
   "codemirror_mode": {
    "name": "ipython",
    "version": 3
   },
   "file_extension": ".py",
   "mimetype": "text/x-python",
   "name": "python",
   "nbconvert_exporter": "python",
   "pygments_lexer": "ipython3",
   "version": "3.10.11"
  },
  "orig_nbformat": 4
 },
 "nbformat": 4,
 "nbformat_minor": 2
}
